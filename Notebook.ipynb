{
  "nbformat": 4,
  "nbformat_minor": 0,
  "metadata": {
    "colab": {
      "name": "1.ipynb",
      "provenance": [],
      "collapsed_sections": [],
      "toc_visible": true
    },
    "kernelspec": {
      "name": "python3",
      "display_name": "Python 3"
    },
    "language_info": {
      "name": "python"
    }
  },
  "cells": [
    {
      "cell_type": "markdown",
      "source": [
        "\n",
        "# Loading and Preprocessing the Data"
      ],
      "metadata": {
        "id": "81hurOOS08A6"
      }
    },
    {
      "cell_type": "code",
      "execution_count": 1,
      "metadata": {
        "id": "L62bLvdqB0NJ"
      },
      "outputs": [],
      "source": [
        "!unzip -qq 'Dataset.zip'"
      ]
    },
    {
      "cell_type": "code",
      "source": [
        "import cv2\n",
        "import numpy as np\n",
        "import tensorflow as tf\n",
        "from sklearn import preprocessing\n",
        "from matplotlib import pyplot as plt"
      ],
      "metadata": {
        "id": "CsoSi7ySB1Eh"
      },
      "execution_count": 2,
      "outputs": []
    },
    {
      "cell_type": "code",
      "source": [
        "train = tf.keras.utils.image_dataset_from_directory(\n",
        "    'traffic_light_data/train',\n",
        "    labels='inferred' ,\n",
        "    label_mode = 'int',\n",
        "    color_mode=\"rgb\",\n",
        "    batch_size=1,\n",
        "    image_size=(32, 32),\n",
        "    shuffle=False,\n",
        "    seed=None,\n",
        "    validation_split=None,\n",
        "    subset=None,\n",
        "    interpolation=\"bilinear\",\n",
        "    follow_links=False,\n",
        "    crop_to_aspect_ratio=False,\n",
        ")\n",
        "\n",
        "\n",
        "test = tf.keras.utils.image_dataset_from_directory(\n",
        "    'traffic_light_data/val',\n",
        "    labels='inferred' ,\n",
        "    label_mode = 'int',\n",
        "    color_mode=\"rgb\",\n",
        "    batch_size=1,\n",
        "    image_size=(32, 32),\n",
        "    shuffle=False,\n",
        "    seed=None,\n",
        "    validation_split=None,\n",
        "    subset=None,\n",
        "    interpolation=\"bilinear\",\n",
        "    follow_links=False,\n",
        "    crop_to_aspect_ratio=False,\n",
        ")"
      ],
      "metadata": {
        "colab": {
          "base_uri": "https://localhost:8080/"
        },
        "id": "hiZsG87NCIZN",
        "outputId": "087c1192-2461-44fc-fe7e-a7da4249b7f5"
      },
      "execution_count": 3,
      "outputs": [
        {
          "output_type": "stream",
          "name": "stdout",
          "text": [
            "Found 3046 files belonging to 3 classes.\n",
            "Found 597 files belonging to 3 classes.\n"
          ]
        }
      ]
    },
    {
      "cell_type": "code",
      "source": [
        "x_train = np.empty((1,32,32,3), dtype= np.int8, order='C')\n",
        "y_train = np.empty((1,1), dtype= np.int8, order='C')\n",
        "for image_batch, labels_batch in train:\n",
        "  x_train = np.vstack((x_train, image_batch))\n",
        "  y_train = np.vstack((y_train, labels_batch))"
      ],
      "metadata": {
        "id": "JdmLF0AkCSed"
      },
      "execution_count": 4,
      "outputs": []
    },
    {
      "cell_type": "code",
      "source": [
        "x_test = np.empty((1,32,32,3), dtype=np.int8, order='C')\n",
        "y_test = np.empty((1,1), dtype=np.int8, order='C')\n",
        "for image_batch, labels_batch in test:\n",
        "  x_test = np.vstack((x_test, image_batch))\n",
        "  y_test = np.vstack((y_test, labels_batch))"
      ],
      "metadata": {
        "id": "jiXwQJLmCk84"
      },
      "execution_count": 5,
      "outputs": []
    },
    {
      "cell_type": "code",
      "source": [
        "x_train = x_train[1:]\n",
        "y_train = y_train[1:]\n",
        "x_test = x_test[1:]\n",
        "y_test = y_test[1:]"
      ],
      "metadata": {
        "id": "iYMCUYTdDkyU"
      },
      "execution_count": 6,
      "outputs": []
    },
    {
      "cell_type": "markdown",
      "source": [
        "# Extracting Color Gradient Histograms"
      ],
      "metadata": {
        "id": "ivoKGdbO1T0h"
      }
    },
    {
      "cell_type": "code",
      "source": [
        "x_train_hist = [cv2.calcHist([x_train[0]], [0,1,2], None, [64,64,64], [0,256,0,256,0,256]).flatten()]\n",
        "x_test_hist = [cv2.calcHist([x_test[0]], [0,1,2], None, [64,64,64], [0,256,0,256,0,256]).flatten()]"
      ],
      "metadata": {
        "id": "9g91UYIIDzrN"
      },
      "execution_count": 7,
      "outputs": []
    },
    {
      "cell_type": "code",
      "source": [
        "for i in range (len(x_train)-1):\n",
        "  x = cv2.calcHist([x_train[i+1]], [0,1,2], None, [64,64,64], [0,256,0,256,0,256]).flatten()\n",
        "  x_train_hist = np.vstack((x_train_hist, x))\n",
        "for i in range (len(x_test)-1):\n",
        "  x = cv2.calcHist([x_test[i+1]], [0,1,2], None, [64,64,64], [0,256,0,256,0,256]).flatten()\n",
        "  x_test_hist = np.vstack((x_test_hist, x))\n"
      ],
      "metadata": {
        "id": "b8WmsteoHKiQ"
      },
      "execution_count": 8,
      "outputs": []
    },
    {
      "cell_type": "markdown",
      "source": [
        "# Normalizing the Data"
      ],
      "metadata": {
        "id": "zMiYNiMK1cIc"
      }
    },
    {
      "cell_type": "code",
      "source": [
        "from sklearn.preprocessing import StandardScaler\n",
        "sc = StandardScaler()\n",
        "x_train_hist = sc.fit_transform(x_train_hist)\n",
        "x_test_hist = sc.transform(x_test_hist)"
      ],
      "metadata": {
        "id": "Pzwr7iGhIJiW"
      },
      "execution_count": 9,
      "outputs": []
    },
    {
      "cell_type": "markdown",
      "source": [
        "# Classification using Logistic Regression"
      ],
      "metadata": {
        "id": "Uwh27LGn1gQr"
      }
    },
    {
      "cell_type": "code",
      "source": [
        "from sklearn.linear_model import LogisticRegression\n",
        "logisticRegr = LogisticRegression(max_iter=1000)\n",
        "\n",
        "logisticRegr.fit(x_train_hist, np.ravel(y_train))"
      ],
      "metadata": {
        "colab": {
          "base_uri": "https://localhost:8080/"
        },
        "id": "62yiiR-hIZrT",
        "outputId": "d2ce7714-fadb-4587-af78-05b008ef3a51"
      },
      "execution_count": 10,
      "outputs": [
        {
          "output_type": "execute_result",
          "data": {
            "text/plain": [
              "LogisticRegression(max_iter=1000)"
            ]
          },
          "metadata": {},
          "execution_count": 10
        }
      ]
    },
    {
      "cell_type": "code",
      "source": [
        "y_pred = logisticRegr.predict(x_test_hist)"
      ],
      "metadata": {
        "id": "rqa2UjgZI16D"
      },
      "execution_count": 11,
      "outputs": []
    },
    {
      "cell_type": "markdown",
      "source": [
        "# Final Result"
      ],
      "metadata": {
        "id": "lvMJ6OsL1npk"
      }
    },
    {
      "cell_type": "code",
      "source": [
        "from sklearn.metrics import confusion_matrix\n",
        "from sklearn.metrics import accuracy_score\n",
        "\n",
        "\n",
        "accuracy = accuracy_score(np.ravel(y_test), y_pred)\n",
        "print('Accuracy: ' , accuracy)\n"
      ],
      "metadata": {
        "colab": {
          "base_uri": "https://localhost:8080/"
        },
        "id": "y6rcFxPgI70O",
        "outputId": "d39f6a98-b824-4b22-d5ee-40688bf2194b"
      },
      "execution_count": 12,
      "outputs": [
        {
          "output_type": "stream",
          "name": "stdout",
          "text": [
            "Accuracy:  0.9782244556113903\n"
          ]
        }
      ]
    },
    {
      "cell_type": "code",
      "source": [
        "matrix = confusion_matrix(np.ravel(y_test), y_pred)\n",
        "print(matrix,'\\n')\n",
        "acc = matrix.diagonal()/matrix.sum(axis=1)\n",
        "print('Red accuracy = ', acc[1],'\\n')\n",
        "print('Yellow accuracy = ', acc[2],'\\n')\n",
        "print('Green accuracy = ', acc[0],'\\n')"
      ],
      "metadata": {
        "colab": {
          "base_uri": "https://localhost:8080/"
        },
        "id": "GX5wbbdmPTYg",
        "outputId": "c318bbea-224a-48d1-8827-8596de5cbec8"
      },
      "execution_count": 14,
      "outputs": [
        {
          "output_type": "stream",
          "name": "stdout",
          "text": [
            "[[206   0   1]\n",
            " [  0 281   0]\n",
            " [  9   3  97]] \n",
            "\n",
            "Red accuracy =  1.0 \n",
            "\n",
            "Yellow accuracy =  0.8899082568807339 \n",
            "\n",
            "Green accuracy =  0.9951690821256038 \n",
            "\n"
          ]
        }
      ]
    }
  ]
}